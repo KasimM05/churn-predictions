{
 "cells": [
  {
   "cell_type": "markdown",
   "id": "1476e40a-1ff3-42f5-9b78-179e20ca8a8f",
   "metadata": {},
   "source": [
    "# Company Churn Predictor\n",
    "## The purpose of this project is to create an ML model to predict the likelihood of customer churn. We will train the model using the telco customer churn dataset. \n",
    "## Implementing the RandomForest Classifier model using a data analyis and Machine Learning pipeline."
   ]
  },
  {
   "cell_type": "code",
   "execution_count": 1,
   "id": "9e4718f6-1c61-4c66-a9e0-ca3e0717962d",
   "metadata": {},
   "outputs": [],
   "source": [
    "import pandas as pd\n",
    "import numpy as np\n",
    "import matplotlib.pyplot as plt\n",
    "import seaborn as sns\n",
    "\n",
    "from sklearn.model_selection import train_test_split, cross_val_score, GridSearchCV, StratifiedKFold\n",
    "from sklearn.preprocessing import LabelEncoder, StandardScaler\n",
    "from sklearn.metrics import accuracy_score, confusion_matrix, classification_report\n",
    "from sklearn.ensemble import RandomForestClassifier, GradientBoostingClassifier\n",
    "\n",
    "pd.set_option('display.max_columns', None)\n",
    "sns.set_style('whitegrid')\n"
   ]
  },
  {
   "cell_type": "code",
   "execution_count": null,
   "id": "b9bd9b6e",
   "metadata": {},
   "outputs": [],
   "source": []
  }
 ],
 "metadata": {
  "kernelspec": {
   "display_name": "Python 3",
   "language": "python",
   "name": "python3"
  },
  "language_info": {
   "codemirror_mode": {
    "name": "ipython",
    "version": 3
   },
   "file_extension": ".py",
   "mimetype": "text/x-python",
   "name": "python",
   "nbconvert_exporter": "python",
   "pygments_lexer": "ipython3",
   "version": "3.11.9"
  }
 },
 "nbformat": 4,
 "nbformat_minor": 5
}
